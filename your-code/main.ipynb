{
 "cells": [
  {
   "cell_type": "markdown",
   "metadata": {},
   "source": [
    "# Intrduction to NumPy\n",
    "\n",
    "\n",
    "#### 1. Import NumPy under the name np."
   ]
  },
  {
   "cell_type": "code",
   "execution_count": 1,
   "metadata": {},
   "outputs": [],
   "source": [
    "# your code here\n",
    "import numpy as np"
   ]
  },
  {
   "cell_type": "markdown",
   "metadata": {},
   "source": [
    "#### 2. Print your NumPy version."
   ]
  },
  {
   "cell_type": "code",
   "execution_count": 2,
   "metadata": {},
   "outputs": [
    {
     "data": {
      "text/plain": [
       "'1.18.0'"
      ]
     },
     "execution_count": 2,
     "metadata": {},
     "output_type": "execute_result"
    }
   ],
   "source": [
    "# your code here\n",
    "np.version.version"
   ]
  },
  {
   "cell_type": "markdown",
   "metadata": {},
   "source": [
    "#### 3. Generate a 2x3x5 3-dimensional array with random values. Assign the array to variable *a*.\n",
    "**Challenge**: there are at least three easy ways that use numpy to generate random arrays. How many ways can you find?"
   ]
  },
  {
   "cell_type": "code",
   "execution_count": 3,
   "metadata": {},
   "outputs": [
    {
     "data": {
      "text/plain": [
       "array([[[0.70856862, 0.41876627, 0.47144074, 0.30313733, 0.33017019],\n",
       "        [0.63989229, 0.94249521, 0.32464776, 0.61025868, 0.74121147],\n",
       "        [0.89368302, 0.36251102, 0.17706963, 0.92126671, 0.9867685 ]],\n",
       "\n",
       "       [[0.53878144, 0.88640096, 0.83243783, 0.47529968, 0.97698867],\n",
       "        [0.26709044, 0.20568157, 0.81346526, 0.78191364, 0.04437452],\n",
       "        [0.94298628, 0.89523285, 0.6651031 , 0.50021669, 0.19758911]]])"
      ]
     },
     "execution_count": 3,
     "metadata": {},
     "output_type": "execute_result"
    }
   ],
   "source": [
    "# Method 1\n",
    "a = np.random.rand(2,3,5)\n",
    "a"
   ]
  },
  {
   "cell_type": "code",
   "execution_count": 4,
   "metadata": {},
   "outputs": [
    {
     "data": {
      "text/plain": [
       "array([[[-0.48999062, -0.40298162,  1.80925366, -0.80708264,\n",
       "         -1.59278329],\n",
       "        [ 0.03856279,  0.58124637,  0.11861978, -0.73589939,\n",
       "          0.43783764],\n",
       "        [-0.0446626 ,  1.32332512, -0.29974536, -1.29557175,\n",
       "          1.74629808]],\n",
       "\n",
       "       [[-1.47038555,  0.6733071 ,  0.01312631, -0.35676571,\n",
       "         -0.71183085],\n",
       "        [-1.05626958,  1.49612519, -1.54100397, -1.21195603,\n",
       "          0.83652658],\n",
       "        [-0.92040955, -0.24305616, -1.38161648,  0.88861702,\n",
       "         -1.57206709]]])"
      ]
     },
     "execution_count": 4,
     "metadata": {},
     "output_type": "execute_result"
    }
   ],
   "source": [
    "# Method 2\n",
    "a = np.random.randn(2,3,5)\n",
    "a"
   ]
  },
  {
   "cell_type": "code",
   "execution_count": 5,
   "metadata": {},
   "outputs": [
    {
     "data": {
      "text/plain": [
       "array([[[40, 50, 29, 84, 80],\n",
       "        [34,  5, 15, 52, 43],\n",
       "        [40, 68, 31, 38, 19]],\n",
       "\n",
       "       [[ 7, 93, 14, 98, 72],\n",
       "        [45, 12, 27, 33, 40],\n",
       "        [56, 49, 90, 70, 20]]])"
      ]
     },
     "execution_count": 5,
     "metadata": {},
     "output_type": "execute_result"
    }
   ],
   "source": [
    "# Method 3\n",
    "a = np.random.randint(100,size=(2,3,5))\n",
    "a"
   ]
  },
  {
   "cell_type": "markdown",
   "metadata": {},
   "source": [
    "#### 4. Print *a*.\n"
   ]
  },
  {
   "cell_type": "code",
   "execution_count": 6,
   "metadata": {},
   "outputs": [
    {
     "data": {
      "text/plain": [
       "array([[[40, 50, 29, 84, 80],\n",
       "        [34,  5, 15, 52, 43],\n",
       "        [40, 68, 31, 38, 19]],\n",
       "\n",
       "       [[ 7, 93, 14, 98, 72],\n",
       "        [45, 12, 27, 33, 40],\n",
       "        [56, 49, 90, 70, 20]]])"
      ]
     },
     "execution_count": 6,
     "metadata": {},
     "output_type": "execute_result"
    }
   ],
   "source": [
    "# your code here\n",
    "a"
   ]
  },
  {
   "cell_type": "markdown",
   "metadata": {},
   "source": [
    "#### 5. Create a 5x2x3 3-dimensional array with all values equaling 1. Assign the array to variable *b*."
   ]
  },
  {
   "cell_type": "code",
   "execution_count": 7,
   "metadata": {},
   "outputs": [
    {
     "data": {
      "text/plain": [
       "array([[[1., 1., 1.],\n",
       "        [1., 1., 1.]],\n",
       "\n",
       "       [[1., 1., 1.],\n",
       "        [1., 1., 1.]],\n",
       "\n",
       "       [[1., 1., 1.],\n",
       "        [1., 1., 1.]],\n",
       "\n",
       "       [[1., 1., 1.],\n",
       "        [1., 1., 1.]],\n",
       "\n",
       "       [[1., 1., 1.],\n",
       "        [1., 1., 1.]]])"
      ]
     },
     "execution_count": 7,
     "metadata": {},
     "output_type": "execute_result"
    }
   ],
   "source": [
    "# your code here\n",
    "b = np.ones((5,2,3))\n",
    "b"
   ]
  },
  {
   "cell_type": "markdown",
   "metadata": {},
   "source": [
    "#### 6. Print *b*.\n"
   ]
  },
  {
   "cell_type": "code",
   "execution_count": 8,
   "metadata": {},
   "outputs": [
    {
     "data": {
      "text/plain": [
       "array([[[1., 1., 1.],\n",
       "        [1., 1., 1.]],\n",
       "\n",
       "       [[1., 1., 1.],\n",
       "        [1., 1., 1.]],\n",
       "\n",
       "       [[1., 1., 1.],\n",
       "        [1., 1., 1.]],\n",
       "\n",
       "       [[1., 1., 1.],\n",
       "        [1., 1., 1.]],\n",
       "\n",
       "       [[1., 1., 1.],\n",
       "        [1., 1., 1.]]])"
      ]
     },
     "execution_count": 8,
     "metadata": {},
     "output_type": "execute_result"
    }
   ],
   "source": [
    "# your code here\n",
    "b"
   ]
  },
  {
   "cell_type": "markdown",
   "metadata": {},
   "source": [
    "#### 7. Do *a* and *b* have the same size? How do you prove that in Python code?"
   ]
  },
  {
   "cell_type": "code",
   "execution_count": 9,
   "metadata": {},
   "outputs": [
    {
     "data": {
      "text/plain": [
       "True"
      ]
     },
     "execution_count": 9,
     "metadata": {},
     "output_type": "execute_result"
    }
   ],
   "source": [
    "# your code here\n",
    "a.size == b.size"
   ]
  },
  {
   "cell_type": "markdown",
   "metadata": {},
   "source": [
    "#### 8. Are you able to add *a* and *b*? Why or why not?\n"
   ]
  },
  {
   "cell_type": "code",
   "execution_count": 10,
   "metadata": {},
   "outputs": [
    {
     "data": {
      "text/plain": [
       "False"
      ]
     },
     "execution_count": 10,
     "metadata": {},
     "output_type": "execute_result"
    }
   ],
   "source": [
    "# your answer here\n",
    "# Can not. Arrays have different shapes\n",
    "a.shape == b.shape"
   ]
  },
  {
   "cell_type": "markdown",
   "metadata": {},
   "source": [
    "#### 9. Transpose *b* so that it has the same structure of *a* (i.e. become a 2x3x5 array). Assign the transposed array to variable *c*."
   ]
  },
  {
   "cell_type": "code",
   "execution_count": 11,
   "metadata": {},
   "outputs": [
    {
     "data": {
      "text/plain": [
       "array([[[1., 1., 1., 1., 1.],\n",
       "        [1., 1., 1., 1., 1.],\n",
       "        [1., 1., 1., 1., 1.]],\n",
       "\n",
       "       [[1., 1., 1., 1., 1.],\n",
       "        [1., 1., 1., 1., 1.],\n",
       "        [1., 1., 1., 1., 1.]]])"
      ]
     },
     "execution_count": 11,
     "metadata": {},
     "output_type": "execute_result"
    }
   ],
   "source": [
    "# your code here\n",
    "c = np.reshape(b,(2,3,5))\n",
    "c"
   ]
  },
  {
   "cell_type": "markdown",
   "metadata": {},
   "source": [
    "#### 10. Try to add *a* and *c*. Now it should work. Assign the sum to variable *d*. But why does it work now?"
   ]
  },
  {
   "cell_type": "code",
   "execution_count": 12,
   "metadata": {},
   "outputs": [
    {
     "data": {
      "text/plain": [
       "array([[[41., 51., 30., 85., 81.],\n",
       "        [35.,  6., 16., 53., 44.],\n",
       "        [41., 69., 32., 39., 20.]],\n",
       "\n",
       "       [[ 8., 94., 15., 99., 73.],\n",
       "        [46., 13., 28., 34., 41.],\n",
       "        [57., 50., 91., 71., 21.]]])"
      ]
     },
     "execution_count": 12,
     "metadata": {},
     "output_type": "execute_result"
    }
   ],
   "source": [
    "# your code/answer here\n",
    "# a and c have the same shape\n",
    "d = a+c \n",
    "d"
   ]
  },
  {
   "cell_type": "markdown",
   "metadata": {},
   "source": [
    "#### 11. Print *a* and *d*. Notice the difference and relation of the two array in terms of the values? Explain."
   ]
  },
  {
   "cell_type": "code",
   "execution_count": 13,
   "metadata": {},
   "outputs": [
    {
     "name": "stdout",
     "output_type": "stream",
     "text": [
      "[[[40 50 29 84 80]\n",
      "  [34  5 15 52 43]\n",
      "  [40 68 31 38 19]]\n",
      "\n",
      " [[ 7 93 14 98 72]\n",
      "  [45 12 27 33 40]\n",
      "  [56 49 90 70 20]]]\n",
      "[[[41. 51. 30. 85. 81.]\n",
      "  [35.  6. 16. 53. 44.]\n",
      "  [41. 69. 32. 39. 20.]]\n",
      "\n",
      " [[ 8. 94. 15. 99. 73.]\n",
      "  [46. 13. 28. 34. 41.]\n",
      "  [57. 50. 91. 71. 21.]]]\n"
     ]
    }
   ],
   "source": [
    "# your code/answer here\n",
    "print(a)\n",
    "print(d)\n",
    "# d = a + c all values of a were sum to values of c"
   ]
  },
  {
   "cell_type": "markdown",
   "metadata": {},
   "source": [
    "#### 12. Multiply *a* and *c*. Assign the result to *e*."
   ]
  },
  {
   "cell_type": "code",
   "execution_count": 14,
   "metadata": {},
   "outputs": [
    {
     "data": {
      "text/plain": [
       "array([[[40., 50., 29., 84., 80.],\n",
       "        [34.,  5., 15., 52., 43.],\n",
       "        [40., 68., 31., 38., 19.]],\n",
       "\n",
       "       [[ 7., 93., 14., 98., 72.],\n",
       "        [45., 12., 27., 33., 40.],\n",
       "        [56., 49., 90., 70., 20.]]])"
      ]
     },
     "execution_count": 14,
     "metadata": {},
     "output_type": "execute_result"
    }
   ],
   "source": [
    "# your code here\n",
    "e = a*c\n",
    "e"
   ]
  },
  {
   "cell_type": "markdown",
   "metadata": {},
   "source": [
    "#### 13. Does *e* equal to *a*? Why or why not?\n"
   ]
  },
  {
   "cell_type": "code",
   "execution_count": 15,
   "metadata": {},
   "outputs": [
    {
     "data": {
      "text/plain": [
       "array([[[ True,  True,  True,  True,  True],\n",
       "        [ True,  True,  True,  True,  True],\n",
       "        [ True,  True,  True,  True,  True]],\n",
       "\n",
       "       [[ True,  True,  True,  True,  True],\n",
       "        [ True,  True,  True,  True,  True],\n",
       "        [ True,  True,  True,  True,  True]]])"
      ]
     },
     "execution_count": 15,
     "metadata": {},
     "output_type": "execute_result"
    }
   ],
   "source": [
    "# your code/answer here\n",
    "e==a\n",
    "# Yes because c has only 1s"
   ]
  },
  {
   "cell_type": "markdown",
   "metadata": {},
   "source": [
    "#### 14. Identify the max, min, and mean values in *d*. Assign those values to variables *d_max*, *d_min* and *d_mean*."
   ]
  },
  {
   "cell_type": "code",
   "execution_count": 16,
   "metadata": {},
   "outputs": [
    {
     "name": "stdout",
     "output_type": "stream",
     "text": [
      "99.0\n",
      "6.0\n",
      "46.13333333333333\n"
     ]
    }
   ],
   "source": [
    "# your code here\n",
    "d_max = d.max()\n",
    "print(d_max)\n",
    "d_min = d.min()\n",
    "print(d_min)\n",
    "d_mean = d.mean()\n",
    "print(d_mean)"
   ]
  },
  {
   "cell_type": "markdown",
   "metadata": {},
   "source": [
    "#### 15. Now we want to label the values in *d*. First create an empty array *f* with the same shape (i.e. 2x3x5) as *d* using `np.empty`.\n"
   ]
  },
  {
   "cell_type": "code",
   "execution_count": 17,
   "metadata": {},
   "outputs": [],
   "source": [
    "# your code here\n",
    "f = np.empty((2,3,5))"
   ]
  },
  {
   "cell_type": "markdown",
   "metadata": {},
   "source": [
    "#### 16. Populate the values in *f*. \n",
    "\n",
    "For each value in *d*, if it's larger than *d_min* but smaller than *d_mean*, assign 25 to the corresponding value in *f*. If a value in *d* is larger than *d_mean* but smaller than *d_max*, assign 75 to the corresponding value in *f*. If a value equals to *d_mean*, assign 50 to the corresponding value in *f*. Assign 0 to the corresponding value(s) in *f* for *d_min* in *d*. Assign 100 to the corresponding value(s) in *f* for *d_max* in *d*. In the end, f should have only the following values: 0, 25, 50, 75, and 100.\n",
    "\n",
    "**Note**: you don't have to use Numpy in this question."
   ]
  },
  {
   "cell_type": "code",
   "execution_count": 49,
   "metadata": {},
   "outputs": [
    {
     "name": "stdout",
     "output_type": "stream",
     "text": [
      "6.0\n",
      "99.0\n",
      "46.13333333333333\n",
      "[[[41. 51. 30. 85. 81.]\n",
      "  [35.  6. 16. 53. 44.]\n",
      "  [41. 69. 32. 39. 20.]]\n",
      "\n",
      " [[ 8. 94. 15. 99. 73.]\n",
      "  [46. 13. 28. 34. 41.]\n",
      "  [57. 50. 91. 71. 21.]]]\n",
      "[[[ 25.  75.  25.  75.  75.]\n",
      "  [ 25.   0.  25.  75.  25.]\n",
      "  [ 25.  75.  25.  25.  25.]]\n",
      "\n",
      " [[ 25.  75.  25. 100.  75.]\n",
      "  [ 25.  25.  25.  25.  25.]\n",
      "  [ 75.  75.  75.  75.  25.]]]\n"
     ]
    }
   ],
   "source": [
    "# your code here\n",
    "for subarray in range(len(d)):\n",
    "    for serie in range(len(d[subarray])):\n",
    "        for element in range(len(d[subarray,serie])):\n",
    "            value = d[subarray,serie,element]\n",
    "            if (value > d_min and value < d_mean):\n",
    "                f[subarray,serie,element] = 25\n",
    "            elif value > d_mean and value < d_max:\n",
    "                f[subarray,serie,element] = 75\n",
    "            elif value == d_mean:\n",
    "                f[subarray,serie,element] = 50\n",
    "            elif value == d_max:\n",
    "                f[subarray,serie,element] = 100\n",
    "            else:\n",
    "                f[subarray,serie,element] = 0\n",
    "print(d_min)\n",
    "print(d_max)\n",
    "print(d_mean)\n",
    "print(d)\n",
    "print(f)"
   ]
  },
  {
   "cell_type": "markdown",
   "metadata": {},
   "source": [
    "#### 17. Print *d* and *f*. Do you have your expected *f*?\n",
    "For instance, if your *d* is:\n",
    "```python\n",
    "[[[1.85836099, 1.67064465, 1.62576044, 1.40243961, 1.88454931],\n",
    "[1.75354326, 1.69403643, 1.36729252, 1.61415071, 1.12104981],\n",
    "[1.72201435, 1.1862918 , 1.87078449, 1.7726778 , 1.88180042]],\n",
    "[[1.44747908, 1.31673383, 1.02000951, 1.52218947, 1.97066381],\n",
    "[1.79129243, 1.74983003, 1.96028037, 1.85166831, 1.65450881],\n",
    "[1.18068344, 1.9587381 , 1.00656599, 1.93402165, 1.73514584]]]\n",
    "```\n",
    "Your *f* should be:\n",
    "```python\n",
    "[[[ 75.,  75.,  75.,  25.,  75.],\n",
    "[ 75.,  75.,  25.,  25.,  25.],\n",
    "[ 75.,  25.,  75.,  75.,  75.]],\n",
    "[[ 25.,  25.,  25.,  25., 100.],\n",
    "[ 75.,  75.,  75.,  75.,  75.],\n",
    "[ 25.,  75.,   0.,  75.,  75.]]]\n",
    "```"
   ]
  },
  {
   "cell_type": "code",
   "execution_count": 50,
   "metadata": {},
   "outputs": [
    {
     "name": "stdout",
     "output_type": "stream",
     "text": [
      "6.0\n",
      "99.0\n",
      "46.13333333333333\n",
      "[[[41. 51. 30. 85. 81.]\n",
      "  [35.  6. 16. 53. 44.]\n",
      "  [41. 69. 32. 39. 20.]]\n",
      "\n",
      " [[ 8. 94. 15. 99. 73.]\n",
      "  [46. 13. 28. 34. 41.]\n",
      "  [57. 50. 91. 71. 21.]]]\n",
      "[[[ 25.  75.  25.  75.  75.]\n",
      "  [ 25.   0.  25.  75.  25.]\n",
      "  [ 25.  75.  25.  25.  25.]]\n",
      "\n",
      " [[ 25.  75.  25. 100.  75.]\n",
      "  [ 25.  25.  25.  25.  25.]\n",
      "  [ 75.  75.  75.  75.  25.]]]\n"
     ]
    }
   ],
   "source": [
    "# your code here\n",
    "print(d_min)\n",
    "print(d_max)\n",
    "print(d_mean)\n",
    "print(d)\n",
    "print(f)"
   ]
  },
  {
   "cell_type": "markdown",
   "metadata": {},
   "source": [
    "#### 18. Bonus question: instead of using numbers (i.e. 0, 25, 50, 75, and 100), use string values  (\"A\", \"B\", \"C\", \"D\", and \"E\") to label the array elements. For the example above, the expected result is:\n",
    "\n",
    "```python\n",
    "[[[ 'D',  'D',  'D',  'B',  'D'],\n",
    "[ 'D',  'D',  'B',  'B',  'B'],\n",
    "[ 'D',  'B',  'D',  'D',  'D']],\n",
    "[[ 'B',  'B',  'B',  'B',  'E'],\n",
    "[ 'D',  'D',  'D',  'D',  'D'],\n",
    "[ 'B',  'D',   'A',  'D', 'D']]]\n",
    "```\n",
    "**Note**: you don't have to use Numpy in this question."
   ]
  },
  {
   "cell_type": "code",
   "execution_count": 69,
   "metadata": {},
   "outputs": [
    {
     "data": {
      "text/plain": [
       "array([[['A', 'D', 'A', 'D', 'D'],\n",
       "        ['A', 'A', 'A', 'D', 'A'],\n",
       "        ['A', 'D', 'A', 'A', 'A']],\n",
       "\n",
       "       [['A', 'D', 'A', 'E', 'D'],\n",
       "        ['A', 'A', 'A', 'A', 'A'],\n",
       "        ['D', 'D', 'D', 'D', 'A']]], dtype='<U1')"
      ]
     },
     "execution_count": 69,
     "metadata": {},
     "output_type": "execute_result"
    }
   ],
   "source": [
    "# your code here\n",
    "\n",
    "f = np.empty((2,3,5), dtype=str)\n",
    "        \n",
    "for subarray in range(len(d)):\n",
    "    for serie in range(len(d[subarray])):\n",
    "        for element in range(len(d[subarray,serie])):\n",
    "            value = d[subarray,serie,element]\n",
    "            if (value > d_min and value < d_mean):\n",
    "                f[subarray,serie,element] = 'A'\n",
    "            elif value > d_mean and value < d_max:\n",
    "                f[subarray,serie,element] = 'D'\n",
    "            elif value == d_mean:\n",
    "                f[subarray,serie,element] = 'C'\n",
    "            elif value == d_max:\n",
    "                f[subarray,serie,element] = 'E'\n",
    "            else:\n",
    "                f[subarray,serie,element] = 'A'\n",
    "f"
   ]
  },
  {
   "cell_type": "code",
   "execution_count": null,
   "metadata": {},
   "outputs": [],
   "source": []
  }
 ],
 "metadata": {
  "kernelspec": {
   "display_name": "Python 3",
   "language": "python",
   "name": "python3"
  },
  "language_info": {
   "codemirror_mode": {
    "name": "ipython",
    "version": 3
   },
   "file_extension": ".py",
   "mimetype": "text/x-python",
   "name": "python",
   "nbconvert_exporter": "python",
   "pygments_lexer": "ipython3",
   "version": "3.7.6"
  }
 },
 "nbformat": 4,
 "nbformat_minor": 2
}
